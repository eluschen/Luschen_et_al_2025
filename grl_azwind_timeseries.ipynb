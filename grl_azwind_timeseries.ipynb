{
 "cells": [
  {
   "cell_type": "markdown",
   "metadata": {},
   "source": [
    "### Azimuthal Wind Timeseries\n",
    "\n",
    "Emily Luschen \\\n",
    "Emily.W.Luschen-1@ou.edu \\\n",
    "created: 29 Jan 2025"
   ]
  },
  {
   "cell_type": "markdown",
   "metadata": {},
   "source": [
    "Gameplan: (edit: 1 May 2025)\n",
    "1. Load in u, v, lat, lon\n",
    "2. Mask u, v\n",
    "3. Calculate az wind\n",
    "3.1 Bin az wind by radius\n",
    "4. Find max wind\n",
    "5. Repeat for each test (do ctl seperately due to change in time)\n",
    "7. Pickle the winds"
   ]
  },
  {
   "cell_type": "code",
   "execution_count": 1,
   "metadata": {},
   "outputs": [],
   "source": [
    "# import packages\n",
    "import numpy as np # libary for working with arrays\n",
    "from grl_mask_tc_track_3d import mask_tc_track_3d # function to mask out the TC track\n",
    "import grl_functions as fun # custom functions\n",
    "from grl_azmuth_wind_level import azim_wind_latlon\n",
    "import xarray as xr\n",
    "import pickle"
   ]
  },
  {
   "cell_type": "markdown",
   "metadata": {},
   "source": [
    "Sensitivity Tests"
   ]
  },
  {
   "cell_type": "code",
   "execution_count": 2,
   "metadata": {},
   "outputs": [],
   "source": [
    "storm = 'haiyan' # or 'maria'\n",
    "\n",
    "if storm == 'haiyan':\n",
    "    wrfout = wrfpath # for lat and lon\n",
    "    ntest = 4\n",
    "    tests = ['ncrf36h', 'STRATANVIL_OFF', 'STRATANVIL_ON', 'STRAT_OFF']\n",
    "    nmem = 8\n",
    "elif storm == 'maria': # maria\n",
    "    wrfout = wrfpath_maria # for lat and lon\n",
    "    ntest = 1\n",
    "    tests = ['ncrf48h'] \n",
    "    nmem = 10\n",
    "\n",
    "\n",
    "# data parameters\n",
    "p_lev = 0 # only one level available\n",
    "t0 = 0 # start time index\n",
    "t1 = 49 # end time index\n",
    "ntime = 49 # senstivity test time length\n",
    "membs = ['01', '02', '03', '04', '05', '06', '07', '08', '09', '10']\n",
    "\n",
    "# TC tracking parameters\n",
    "ptrack='600' # tracking pressure level\n",
    "var_track = 'rvor' # variable\n",
    "rmax = 3 # radius (deg) limit for masking around TC center"
   ]
  },
  {
   "cell_type": "code",
   "execution_count": 3,
   "metadata": {},
   "outputs": [],
   "source": [
    "# get the lat and lon\n",
    "\n",
    "varname='XLAT'\n",
    "lat = fun.var_wrfread(wrfout,varname) # latitude\n",
    "varname='XLONG'\n",
    "lon = fun.var_wrfread(wrfout,varname) # latitude\n",
    "\n",
    "nlat, nlon = np.shape(lat)"
   ]
  },
  {
   "cell_type": "markdown",
   "metadata": {},
   "source": [
    "### Sensitivity Test Loop"
   ]
  },
  {
   "cell_type": "code",
   "execution_count": 4,
   "metadata": {},
   "outputs": [
    {
     "name": "stdout",
     "output_type": "stream",
     "text": [
      "Test:  ncrf36h\n",
      "Member:  01\n",
      "Member:  02\n",
      "Member:  03\n",
      "Member:  04\n",
      "Member:  05\n",
      "Member:  06\n",
      "Member:  07\n",
      "Member:  08\n",
      "Test:  ncrf36h\n",
      "Test:  STRATANVIL_OFF\n",
      "Member:  01\n",
      "Member:  02\n",
      "Member:  03\n",
      "Member:  04\n",
      "Member:  05\n",
      "Member:  06\n",
      "Member:  07\n",
      "Member:  08\n",
      "Test:  STRATANVIL_OFF\n",
      "Test:  STRATANVIL_ON\n",
      "Member:  01\n",
      "Member:  02\n",
      "Member:  03\n",
      "Member:  04\n",
      "Member:  05\n",
      "Member:  06\n",
      "Member:  07\n",
      "Member:  08\n",
      "Test:  STRATANVIL_ON\n",
      "Test:  STRAT_OFF\n",
      "Member:  01\n",
      "Member:  02\n",
      "Member:  03\n",
      "Member:  04\n",
      "Member:  05\n",
      "Member:  06\n",
      "Member:  07\n",
      "Member:  08\n",
      "Test:  STRAT_OFF\n"
     ]
    }
   ],
   "source": [
    "# initialize arrays\n",
    "azwind_plt = np.zeros((ntest, ntime))*np.nan # test x time (4,49)\n",
    "azwind_membs = np.zeros((ntest,nmem,ntime))*np.nan # test x mem x time\n",
    "\n",
    "max_radius = rmax*111# [km]; find max radius\n",
    "bin_radius = np.arange(0,max_radius+10,10) # radius bins with 10 km interval\n",
    "\n",
    "\n",
    "for s in range(0,ntest): # 6. Do for each test\n",
    "\n",
    "    print('Test: ', tests[s])\n",
    "\n",
    "    track_t0 = 36\n",
    "    track_t1 = track_t0 + ntime\n",
    "\n",
    "    for m in range(0,nmem):\n",
    "        # 1. load data\n",
    "        ufile = U_path # sfc wind\n",
    "        vfile = V_path # sfc wind\n",
    "        df = xr.open_mfdataset([ufile, vfile])\n",
    "        u_wind = df.U10.data[:,p_lev,:,:]\n",
    "        v_wind = df.V10.data[:,p_lev,:,:]\n",
    "\n",
    "        # 2. mask winds\n",
    "        track_file = tracking_file_path # tracking file\n",
    "        uwind_mask = mask_tc_track_3d(track_file, rmax, u_wind, lon, lat, t0=t0, t1=t1)\n",
    "        vwind_mask = mask_tc_track_3d(track_file, rmax, v_wind, lon, lat, t0=t0, t1=t1)\n",
    "\n",
    "        # 3. calculate azimuthal wind and radius\n",
    "        r_wind, az_wind, theta, radius = azim_wind_latlon(track_file, uwind_mask, vwind_mask, lon=lon, lat=lat, t0=t0, t1=t1)\n",
    "\n",
    "        # binning for radius\n",
    "        radius_km = radius*111 # [km]; 111 km per degree\n",
    "        r_wind_azavg = np.zeros((ntime,len(bin_radius)-1))*np.nan\n",
    "        az_wind_azavg = np.zeros((ntime,len(bin_radius)-1))*np.nan\n",
    "        for t in range(ntime):\n",
    "            for b in range(0,len(bin_radius)-1):\n",
    "                bidx_radius = (radius_km[t,:,:]>=bin_radius[b])&(radius_km[t,:,:]<bin_radius[b+1]) # index for radius bin\n",
    "                r_wind_azavg[t,b] = np.ma.mean(r_wind[t,bidx_radius]) # mean radial wind in each radius bin\n",
    "                az_wind_azavg[t,b] = np.ma.mean(az_wind[t,bidx_radius]) # mean azimuthal wind in each radius bin\n",
    "        \n",
    "        # 4. Find max azimuthal wind\n",
    "        azwind_membs[s,m,:] = np.ma.max(az_wind_azavg, axis=1) # membs x time\n",
    "\n",
    "        print('Member: ', membs[m])\n",
    "\n",
    "    print('Test: ', tests[s])\n",
    "# estimated completion time: 26m 19s"
   ]
  },
  {
   "cell_type": "markdown",
   "metadata": {},
   "source": [
    "### CTL Loop"
   ]
  },
  {
   "cell_type": "code",
   "execution_count": 5,
   "metadata": {},
   "outputs": [
    {
     "name": "stderr",
     "output_type": "stream",
     "text": [
      "/scratch/eluschen/tmp/ipykernel_45913/3454413697.py:36: UserWarning: Warning: converting a masked element to nan.\n",
      "  r_wind_azavg[t,b] = np.ma.mean(r_wind[t,bidx_radius]) # mean radial wind in each radius bin\n",
      "/scratch/eluschen/tmp/ipykernel_45913/3454413697.py:37: UserWarning: Warning: converting a masked element to nan.\n",
      "  az_wind_azavg[t,b] = np.ma.mean(az_wind[t,bidx_radius]) # mean azimuthal wind in each radius bin\n"
     ]
    },
    {
     "name": "stdout",
     "output_type": "stream",
     "text": [
      "Member:  01\n",
      "Member:  02\n",
      "Member:  03\n",
      "Member:  04\n",
      "Member:  05\n",
      "Member:  06\n",
      "Member:  07\n",
      "Member:  08\n"
     ]
    }
   ],
   "source": [
    "ntime = 97 \n",
    "track_t0 = 0\n",
    "track_t1 = 97\n",
    "\n",
    "azwind_membs_ctl = np.zeros((nmem, ntime))*np.nan # memb x time (8,49)\n",
    "\n",
    "for m in range(0,nmem):\n",
    "    # 1. load data\n",
    "    ufile = U_path # sfc wind\n",
    "    vfile = V_path # sfc wind\n",
    "    df = xr.open_mfdataset([ufile, vfile])\n",
    "    u_wind = df.U10.data[:,p_lev,:,:] \n",
    "    v_wind = df.V10.data[:,p_lev,:,:]\n",
    "\n",
    "    # 2. mask winds\n",
    "    track_file = tracking_file_path # tracking file\n",
    "    uwind_mask = mask_tc_track_3d(track_file, rmax, u_wind, lon, lat, t0=track_t0, t1=track_t1)\n",
    "    vwind_mask = mask_tc_track_3d(track_file, rmax, v_wind, lon, lat, t0=track_t0, t1=track_t1)\n",
    "\n",
    "    # 3. calculate azimuthal wind and radius\n",
    "    r_wind, az_wind, theta, radius = azim_wind_latlon(track_file, uwind_mask, vwind_mask, lon=lon, lat=lat, t0=track_t0, t1=track_t1)\n",
    "\n",
    "    # binning for radius\n",
    "    radius_km = radius*111 # [km]; 111 km per degree\n",
    "    r_wind_azavg = np.zeros((ntime,len(bin_radius)-1))*np.nan\n",
    "    az_wind_azavg = np.zeros((ntime,len(bin_radius)-1))*np.nan\n",
    "    for t in range(ntime):\n",
    "        for b in range(0,len(bin_radius)-1):\n",
    "            bidx_radius = (radius_km[t,:,:]>=bin_radius[b])&(radius_km[t,:,:]<bin_radius[b+1]) # index for radius bin\n",
    "            r_wind_azavg[t,b] = np.ma.mean(r_wind[t,bidx_radius]) # mean radial wind in each radius bin\n",
    "            az_wind_azavg[t,b] = np.ma.mean(az_wind[t,bidx_radius]) # mean azimuthal wind in each radius bin\n",
    "    \n",
    "    # 4. Find max azimuthal wind\n",
    "    azwind_membs_ctl[m,:] = np.ma.max(az_wind_azavg, axis=1)\n",
    "\n",
    "    print('Member: ', membs[m])\n",
    "\n",
    "# estimated completion time: 13m 46s"
   ]
  },
  {
   "cell_type": "code",
   "execution_count": 10,
   "metadata": {},
   "outputs": [],
   "source": [
    "# Write pickle file\n",
    "pickle_file = output_file_path\n",
    "with open(pickle_file, 'wb') as file:\n",
    "    pickle.dump([azwind_membs, azwind_membs_ctl], file)\n",
    "    # azwind_membs: test x memb x time (4 x 8 x 49)\n",
    "    # azwind_membs_ctl: memb x time (8 x 97)"
   ]
  },
  {
   "cell_type": "code",
   "execution_count": null,
   "metadata": {},
   "outputs": [],
   "source": []
  }
 ],
 "metadata": {
  "kernelspec": {
   "display_name": "py_env",
   "language": "python",
   "name": "python3"
  },
  "language_info": {
   "codemirror_mode": {
    "name": "ipython",
    "version": 3
   },
   "file_extension": ".py",
   "mimetype": "text/x-python",
   "name": "python",
   "nbconvert_exporter": "python",
   "pygments_lexer": "ipython3",
   "version": "3.10.14"
  }
 },
 "nbformat": 4,
 "nbformat_minor": 2
}
