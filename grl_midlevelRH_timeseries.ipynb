{
 "cells": [
  {
   "cell_type": "markdown",
   "metadata": {},
   "source": [
    "### Midlevel Moisture Timeseries Plot\n",
    "\n",
    "Emily Luschen \\\n",
    "Emily.W.Luschen-1@ou.edu \\\n",
    "28 Aug 2025"
   ]
  },
  {
   "cell_type": "code",
   "execution_count": 1,
   "metadata": {},
   "outputs": [],
   "source": [
    "# import packages \n",
    "import numpy as np # libary for working with arrays\n",
    "from grl_mask_tc_track_3d import mask_tc_track_3d # function to mask out the TC track\n",
    "import grl_functions as fun # custom functions\n",
    "import xarray as xr\n",
    "import pickle"
   ]
  },
  {
   "cell_type": "markdown",
   "metadata": {},
   "source": [
    "Edited: 1 May 2025\n",
    "Goal: Three panel plot\n",
    "* Midlevel relative humidity\n",
    "\n",
    "To Do:\n",
    "1. Read in qvap, T, lat, lon\n",
    "2. Calculate RH\n",
    "3. Mask RH\n",
    "4. Average over RH\n",
    "5. Pickle RH"
   ]
  },
  {
   "cell_type": "code",
   "execution_count": 2,
   "metadata": {},
   "outputs": [],
   "source": [
    "storm = 'maria' # or 'maria'\n",
    "ntime = 49 \n",
    "\n",
    "if storm == 'haiyan':\n",
    "    wrfout = wrf_path # for lat and lon\n",
    "    ntest = 4\n",
    "    tests = ['ncrf36h', 'STRATANVIL_OFF', 'STRATANVIL_ON', 'STRAT_OFF']\n",
    "    nmem = 8\n",
    "elif storm == 'maria': # maria\n",
    "    wrfout = wrf_path_maria\n",
    "    ntest = 1\n",
    "    tests = ['ncrf48h'] \n",
    "    nmem = 10\n",
    "\n",
    "\n",
    "\n",
    "# data parameters\n",
    "p_lev = 16 # only one level available\n",
    "t0 = 0 # start time index\n",
    "t1 = 49 # end time index\n",
    "ntime = 49 # senstivity test time length\n",
    "membs = ['01', '02', '03', '04', '05', '06', '07', '08', '09', '10']\n",
    "\n",
    "# TC tracking parameters\n",
    "ptrack='600' # tracking pressure level\n",
    "var_track = 'rvor' # variable\n",
    "rmax = 3 # radius (deg) limit for masking around TC center"
   ]
  },
  {
   "cell_type": "code",
   "execution_count": 3,
   "metadata": {},
   "outputs": [],
   "source": [
    "# 1. Load in lat and lon\n",
    "\n",
    "varname='XLAT'\n",
    "lat = fun.var_wrfread(wrfout,varname) # latitude\n",
    "varname='XLONG'\n",
    "lon = fun.var_wrfread(wrfout,varname) # latitude\n",
    "\n",
    "nlat, nlon = np.shape(lat)"
   ]
  },
  {
   "cell_type": "markdown",
   "metadata": {},
   "source": [
    "### CTL Loop"
   ]
  },
  {
   "cell_type": "code",
   "execution_count": null,
   "metadata": {},
   "outputs": [],
   "source": [
    "# ctl\n",
    "rh_mean_ctl = np.zeros((nmem, 97)) \n",
    "\n",
    "for m in range(nmem): # member loop\n",
    "    # 1. Load in data: qvap, temp, pres\n",
    "    qvapfile = qvap_path # maria\n",
    "    Tfile = temp_path # maria\n",
    "    df = xr.open_mfdataset((qvapfile,Tfile))\n",
    "    qvap = df.QVAPOR.data[:,p_lev,:,:] # time, level, lat, lon\n",
    "    temp = df.T.data[:,p_lev,:,:]\n",
    "    pres = df.pres.data[p_lev]\n",
    "    df.close()\n",
    "\n",
    "    # 2. Calculate RH\n",
    "    rh = fun.relh(qvap, pres*100, temp-273.15) # change pressure to Pa and temp to C\n",
    "\n",
    "    # 3. Mask RH\n",
    "    track_file = tracking_path # maria\n",
    "    rh_mask = mask_tc_track_3d(track_file, rmax, rh, lon, lat, t0=0, t1=97)\n",
    "\n",
    "    # 4. Average over lat and lon and level\n",
    "    rh_mean_ctl[m,:] = np.ma.mean(rh_mask, axis=(1,2))\n",
    "\n",
    "    print('Member '+membs[m]+' complete')\n",
    "\n",
    "# estimated completion time: 5m 3s"
   ]
  },
  {
   "cell_type": "code",
   "execution_count": 5,
   "metadata": {},
   "outputs": [
    {
     "name": "stdout",
     "output_type": "stream",
     "text": [
      "Now running test: ncrf48h\n",
      "Member 01 complete\n",
      "Member 02 complete\n",
      "Member 03 complete\n",
      "Member 04 complete\n",
      "Member 05 complete\n",
      "Member 06 complete\n",
      "Member 07 complete\n",
      "Member 08 complete\n",
      "Member 09 complete\n",
      "Member 10 complete\n",
      "Test ncrf48h complete\n"
     ]
    }
   ],
   "source": [
    "# intialize arrays\n",
    "rh_mean = np.zeros((ntest,nmem,ntime))*np.nan\n",
    "\n",
    "for itest in range(ntest): # test loop\n",
    "    print('Now running test: '+tests[itest])\n",
    "    for m in range(nmem): # member loop\n",
    "        # 1. Load in data: qvap, temp, pres\n",
    "        qvapfile = qvap_path\n",
    "        Tfile = temp_path\n",
    "        df = xr.open_mfdataset((qvapfile,Tfile))\n",
    "        qvap = df.QVAPOR.data[:,p_lev,:,:] # time, level, lat, lon\n",
    "        temp = df.T.data[:,p_lev,:,:]\n",
    "        pres = df.pres.data[p_lev]\n",
    "        df.close()\n",
    "\n",
    "        # 2. Calculate RH\n",
    "        rh = fun.relh(qvap, pres*100, temp-273.15)\n",
    "\n",
    "        # 3. Mask out TC track\n",
    "        track_file = tracking_path # use ncrf track\n",
    "        rh_mask = mask_tc_track_3d(track_file, rmax, rh, lon, lat, t0=0, t1=49) # ncrf track\n",
    "\n",
    "        # 4. Average over lat and lon and level\n",
    "        rh_mean[itest,m,:] = np.ma.mean(rh_mask, axis=(1,2))\n",
    "\n",
    "        print('Member '+membs[m]+' complete')\n",
    "    print('Test '+tests[itest]+' complete')\n",
    "\n",
    "    # estimated completion time: 31m 48s"
   ]
  },
  {
   "cell_type": "code",
   "execution_count": 7,
   "metadata": {},
   "outputs": [],
   "source": [
    "# Write out to pickle file\n",
    "pickle_file = pickle_path\n",
    "with open(pickle_file, 'wb') as file:\n",
    "    pickle.dump([rh_mean_ctl, rh_mean], file)\n",
    "    # rh_mean_ctl: (nmem, time)\n",
    "    # rh_mean: (ntest, nmem, time)"
   ]
  },
  {
   "cell_type": "code",
   "execution_count": null,
   "metadata": {},
   "outputs": [],
   "source": []
  }
 ],
 "metadata": {
  "kernelspec": {
   "display_name": "Python 3",
   "language": "python",
   "name": "python3"
  },
  "language_info": {
   "codemirror_mode": {
    "name": "ipython",
    "version": 3
   },
   "file_extension": ".py",
   "mimetype": "text/x-python",
   "name": "python",
   "nbconvert_exporter": "python",
   "pygments_lexer": "ipython3",
   "version": "3.10.14"
  }
 },
 "nbformat": 4,
 "nbformat_minor": 2
}
